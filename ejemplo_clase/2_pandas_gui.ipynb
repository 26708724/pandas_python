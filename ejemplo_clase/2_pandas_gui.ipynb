{
  "nbformat": 4,
  "nbformat_minor": 0,
  "metadata": {
    "kernelspec": {
      "display_name": "Python 3",
      "language": "python",
      "name": "python3"
    },
    "language_info": {
      "codemirror_mode": {
        "name": "ipython",
        "version": 3
      },
      "file_extension": ".py",
      "mimetype": "text/x-python",
      "name": "python",
      "nbconvert_exporter": "python",
      "pygments_lexer": "ipython3",
      "version": "3.7.0-final"
    },
    "colab": {
      "name": "1_pandas_gui.ipynb",
      "provenance": [],
      "collapsed_sections": []
    }
  },
  "cells": [
    {
      "cell_type": "markdown",
      "metadata": {
        "id": "Ea9CPlvttQda"
      },
      "source": [
        "<a href=\"https://www.inove.com.ar\"><img src=\"https://raw.githubusercontent.com/InoveAlumnos/dataset_analytics_python/master/images/PA%20Banner.png\" width=\"1000\" align=\"center\"></a>\n",
        "\n",
        "\n",
        "# Visualización y limpieza con Pandas\n",
        "\n",
        "Visualización de los datos del dataset iris\\\n",
        "v1.1"
      ]
    },
    {
      "cell_type": "markdown",
      "metadata": {
        "id": "jxYzK15jk-xe"
      },
      "source": [
        "<a href=\"https://www.inove.com.ar\"><img src=\"https://raw.githubusercontent.com/InoveAlumnos/dataset_analytics_python/master/iris_dataset.png\" width=\"1000\" align=\"center\"></a>"
      ]
    },
    {
      "cell_type": "code",
      "metadata": {
        "id": "xJN8ND5ctQdc"
      },
      "source": [
        "import os\n",
        "import platform\n",
        "\n",
        "import numpy as np\n",
        "import matplotlib.pyplot as plt\n",
        "import seaborn as sns\n",
        "import pandas as pd\n",
        "\n",
        "from  sklearn import  datasets"
      ],
      "execution_count": null,
      "outputs": []
    },
    {
      "cell_type": "code",
      "metadata": {
        "id": "lEWhoHOyeYfk"
      },
      "source": [
        "!pip install dtale --quiet"
      ],
      "execution_count": null,
      "outputs": []
    },
    {
      "cell_type": "markdown",
      "metadata": {
        "id": "v-jK-TsQCwW9"
      },
      "source": [
        "# Recolectar datos\n",
        "<div align=\"center\"><img src=\"https://raw.githubusercontent.com/InoveAlumnos/dataset_analytics_python/master/images/Pipeline1.png\" width=\"1000\" align=\"middle\"></div>"
      ]
    },
    {
      "cell_type": "code",
      "metadata": {
        "tags": [],
        "id": "j9x_YEdTtQeC"
      },
      "source": [
        "iris=datasets.load_iris()\n",
        "df_data = pd.DataFrame(data= iris.data, columns= iris.feature_names)\n",
        "df_target = pd.DataFrame(data= iris.target, columns= ['species'])\n",
        "df = pd.concat([df_data, df_target], axis= 1)\n",
        "df.head()"
      ],
      "execution_count": null,
      "outputs": []
    },
    {
      "cell_type": "code",
      "metadata": {
        "id": "cxJShqyNHIxT"
      },
      "source": [
        ""
      ],
      "execution_count": null,
      "outputs": []
    },
    {
      "cell_type": "code",
      "metadata": {
        "id": "jyt8YL9QHQxY"
      },
      "source": [
        "import dtale\n",
        "import dtale.app as dtale_app\n",
        "\n",
        "dtale_app.USE_COLAB = True\n",
        "\n",
        "dtale.show(df)"
      ],
      "execution_count": null,
      "outputs": []
    }
  ]
}